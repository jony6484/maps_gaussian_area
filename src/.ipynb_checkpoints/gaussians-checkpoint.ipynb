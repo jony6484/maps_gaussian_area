{
 "cells": [
  {
   "cell_type": "code",
   "execution_count": 1,
   "id": "9b593635",
   "metadata": {},
   "outputs": [],
   "source": [
    "import matplotlib.pyplot as plt\n",
    "from shapely import geometry\n",
    "from shapely import wkt\n",
    "import csv\n",
    "import numpy as np\n",
    "from time import time\n",
    "from skimage import measure\n",
    "import os.path\n",
    "from gaussenvelope import GaussEnvelope\n",
    "from file_handler import point_file_reader"
   ]
  },
  {
   "cell_type": "code",
   "execution_count": 2,
   "id": "194a5e10",
   "metadata": {},
   "outputs": [],
   "source": [
    "def plot_polygon(poly_lst, filename):\n",
    "    if type(poly_lst) != list:\n",
    "        poly_lst = [poly_lst]\n",
    "    with open(filename, 'w') as csvfile:\n",
    "        csvfile.write(\",polygon\\n\")\n",
    "        for ii, poly in enumerate(poly_lst):\n",
    "            csvfile.write(f'{ii}, \"{poly.wkt}\"\\n')"
   ]
  },
  {
   "cell_type": "code",
   "execution_count": 48,
   "id": "2a84a78c",
   "metadata": {},
   "outputs": [],
   "source": [
    "def read_from_file(filename):\n",
    "    input_filename = '..\\\\input\\\\' + filename\n",
    "    with open(input_filename, newline='') as csvfile:\n",
    "        lines = csvfile.read().split('\\n')\n",
    "    points_list, points_arr = point_file_reader(lines)\n",
    "    return points_list, points_arr\n",
    "\n",
    "def mk_gaussians(filename, sigma, thresh, zoom):\n",
    "    points_list, points_arr = read_from_file(filename)\n",
    "    gauss_env = GaussEnvelope(points_arr)\n",
    "    gauss_env.calc_gauss_grid(sigma=sigma)\n",
    "    gauss_env.find_contours(thresh=thresh)\n",
    "    fig, ax = plt.subplots(figsize=(15, 10))\n",
    "    ax.contour(gauss_env.xx, gauss_env.yy, gauss_env.gauss_grid, 15)\n",
    "    for contour in gauss_env.contour_point_lst:\n",
    "        ax.plot(contour[:, 0], contour[:, 1], 'r--')\n",
    "    ax.plot(gauss_env.points[:, 0], gauss_env.points[:, 1], 'k.')\n",
    "    \n",
    "    x_min, y_min = points_arr.min(0)*(1-zoom)\n",
    "    x_max, y_max = points_arr.max(0)*(1+zoom)\n",
    "    ax.set_xlim([x_min, x_max])\n",
    "    ax.set_ylim([y_min, y_max])\n",
    "    ax.set_aspect('equal')\n",
    "    ax.grid()"
   ]
  },
  {
   "cell_type": "code",
   "execution_count": 50,
   "id": "a89d0e2b",
   "metadata": {
    "scrolled": false
   },
   "outputs": [
    {
     "data": {
      "application/vnd.jupyter.widget-view+json": {
       "model_id": "0e8cf64c11c440d49e469d7eff8bafb8",
       "version_major": 2,
       "version_minor": 0
      },
      "text/plain": [
       "interactive(children=(Dropdown(description='Number:', options=('bone1.csv', 'double_banana.csv', 'points_googl…"
      ]
     },
     "metadata": {},
     "output_type": "display_data"
    }
   ],
   "source": [
    "from ipywidgets import interact, FloatSlider, Layout, FloatLogSlider, Dropdown\n",
    "import os\n",
    "\n",
    "interact(mk_gaussians,\n",
    "         filename=Dropdown(options=os.listdir('..\\\\input'), description='Number:'),\n",
    "         sigma=FloatLogSlider(min=-2.5, max=-1, step=0.05, value=0.01, layout=Layout(width='80%')),\n",
    "         thresh=FloatLogSlider(min=-2.5, max=-0.01, step=0.1, value=0.05, layout=Layout(width='80%')),\n",
    "            zoom=FloatSlider(min=0.0001, max=0.01, step=0.0004, value=0.002, layout=Layout(width='80%')));"
   ]
  },
  {
   "cell_type": "code",
   "execution_count": null,
   "id": "f37f442d",
   "metadata": {},
   "outputs": [],
   "source": []
  }
 ],
 "metadata": {
  "kernelspec": {
   "display_name": "Python 3 (ipykernel)",
   "language": "python",
   "name": "python3"
  },
  "language_info": {
   "codemirror_mode": {
    "name": "ipython",
    "version": 3
   },
   "file_extension": ".py",
   "mimetype": "text/x-python",
   "name": "python",
   "nbconvert_exporter": "python",
   "pygments_lexer": "ipython3",
   "version": "3.9.11"
  }
 },
 "nbformat": 4,
 "nbformat_minor": 5
}
